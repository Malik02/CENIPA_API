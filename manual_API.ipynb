{
 "cells": [
  {
   "cell_type": "markdown",
   "metadata": {},
   "source": [
    "# *Informações sobre o desenvolvimento e uso da API*"
   ]
  },
  {
   "cell_type": "markdown",
   "metadata": {},
   "source": [
    "## **Criadores**"
   ]
  },
  {
   "cell_type": "markdown",
   "metadata": {},
   "source": [
    "### Abdul Malik\n",
    "### Ana Beatriz Macedo\n",
    "### Bruna Bellini\n",
    "### Heloisa Mariani"
   ]
  },
  {
   "cell_type": "markdown",
   "metadata": {},
   "source": [
    "## **História do desenvolvimento da API**"
   ]
  },
  {
   "cell_type": "markdown",
   "metadata": {},
   "source": [
    "## **Instalações necessárias para utilização**"
   ]
  },
  {
   "cell_type": "markdown",
   "metadata": {},
   "source": [
    "## **Como utilizar**"
   ]
  }
 ],
 "metadata": {
  "interpreter": {
   "hash": "34d276ea37b3d67f5f4bee3739ccf172b0d800a41da6c574e378ee2d575d0eb8"
  },
  "kernelspec": {
   "display_name": "Python 3.9.2 64-bit",
   "name": "python3"
  },
  "language_info": {
   "codemirror_mode": {
    "name": "ipython",
    "version": 3
   },
   "file_extension": ".py",
   "mimetype": "text/x-python",
   "name": "python",
   "nbconvert_exporter": "python",
   "pygments_lexer": "ipython3",
   "version": "3.9.2"
  },
  "orig_nbformat": 4
 },
 "nbformat": 4,
 "nbformat_minor": 2
}
