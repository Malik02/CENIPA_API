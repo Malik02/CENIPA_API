{
 "cells": [
  {
   "cell_type": "markdown",
   "metadata": {},
   "source": [
    "## Sobre o trabalho e sobre o Framework:"
   ]
  },
  {
   "cell_type": "code",
   "execution_count": null,
   "id": "15ef1831",
   "metadata": {},
   "outputs": [],
   "source": []
  },
  {
   "cell_type": "markdown",
   "id": "4a52e325",
   "metadata": {},
   "source": [
    "## O Framework:"
   ]
  },
  {
   "cell_type": "markdown",
   "id": "38753010",
   "metadata": {},
   "source": [
    "### Bibliotecas utilizadas"
   ]
  },
  {
   "cell_type": "code",
   "execution_count": 1,
   "id": "c3ef5ce3",
   "metadata": {},
   "outputs": [],
   "source": [
    "import pandas as pd\n",
    "import matplotlib.pyplot as plt\n",
    "import re\n",
    "import numpy as np"
   ]
  },
  {
   "cell_type": "markdown",
   "id": "2cd15a3f",
   "metadata": {},
   "source": [
    "### Função Complementar"
   ]
  },
  {
   "cell_type": "code",
   "execution_count": 4,
   "id": "1963bd15",
   "metadata": {},
   "outputs": [],
   "source": [
    "def limpezaFinal(txt):\n",
    "  chars = \"=*|>!:,[]'\\()\" \n",
    "  for chars in chars:\n",
    "    txt = txt.replace(chars, '')\n",
    "  txt = txt.replace('\"', ' ') \n",
    "  txt = txt.replace('n', ' ') \n",
    "  return txt"
   ]
  },
  {
   "cell_type": "markdown",
   "id": "060f9aa9",
   "metadata": {},
   "source": [
    "### Superclasse CENIPA_API:"
   ]
  },
  {
   "cell_type": "markdown",
   "id": "16d6e77d",
   "metadata": {},
   "source": [
    "#### Esta superclasse representa um extrator com finalidade de utilizar dados públicos para entender características e correlações aeronáuticas da aviação civil brasileira nos últimos 10 anos"
   ]
  },
  {
   "cell_type": "code",
   "execution_count": null,
   "id": "0164f678",
   "metadata": {},
   "outputs": [],
   "source": [
    "class CENIPA_API:\n",
    "\n",
    "    def __init__(self):\n",
    "        '''\n",
    "\t\tInicializador \n",
    "  \t\t'''\n",
    "\t\tpath = './Data/df_final_aeronautico.csv'\n",
    "\t\tself.df = pd.read_csv(path, sep=';')\n",
    "\t\t\n",
    "\tdef get_table(self):\n",
    "\t\t'''\n",
    "\t\tEssa função tem o objetivo de retornar e mostrar o Dataset dentro do terminal\n",
    "  \t\t'''\n",
    "\t\treturn self.df\n",
    "\n",
    "\tdef get_acidente(self):\n",
    "\t\t'''\n",
    "\t\tEssa função tem o objetivo de retornar um dataset com as colunas relevantes para analise sobre os acidentes\n",
    "\t\t'''\n",
    "\t\tcols=['aeronave_tipo_veiculo', 'aeronave_fabricante','aeronave_modelo','aeronave_motor_tipo','aeronave_assentos','aeronave_ano_fabricacao','aeronave_registro_segmento','aeronave_voo_origem','aeronave_voo_destino','aeronave_fase_operacao','codigo_ocorrencia','ocorrencia_cidade','ocorrencia_uf','ocorrencia_hora','fator_aspecto','fator_condicionante','ocorrencia_tipo']\n",
    "\t\tself.df_acidente = self.df[cols]\n",
    "\t\treturn self.df_acidente       \n",
    "\n",
    "\tdef get_fator_contribuinte(self):\n",
    "\t\t'''\n",
    "        Essa função tem o objetivo de retornar um dataset com os fatores contribuintes para o acidente\n",
    "        '''\n",
    "\t\tcols=['aeronave_ano_fabricacao','aeronave_fabricante','fator_nome','fator_aspecto','fator_condicionante','fator_area','ocorrencia_tipo','ocorrencia_tipo_categoria']\n",
    "\t\tself.df_contribuinte = self.df[cols]\n",
    "\t\treturn self.df_contribuinte\n",
    "\n",
    "\tdef get_aeronave(self):\n",
    "\t\t'''\n",
    "        Essa função tem o objetivo de retornar um dataset para a analise das fatores das aeronaves\n",
    "        '''\n",
    "\t\tcols=['aeronave_tipo_veiculo','aeronave_fabricante','aeronave_modelo','aeronave_tipo_icao','aeronave_motor_tipo','aeronave_ano_fabricacao','aeronave_pais_fabricante','aeronave_pais_registro','aeronave_registro_categoria','aeronave_registro_segmento','aeronave_voo_origem','aeronave_voo_destino','aeronave_fase_operacao','aeronave_tipo_operacao','aeronave_nivel_dano', 'aeronave_fatalidades_total']\n",
    "\t\tself.df_aero = self.df[cols]\n",
    "\t\treturn self.df_aero\n",
    "\n",
    "\tdef get_recomendacao(self):\n",
    "\t\t'''\n",
    "\t\tEssa função tem objetivo de retornar um dataset para a analise das recomendações do casos \n",
    "        '''\n",
    "\t\tcols = ['recomendacao_dia_encaminhamento', 'recomendacao_conteudo', 'recomendacao_status','recomendacao_destinatario_sigla','recomendacao_destinatario'] \n",
    "\t\tself.df_recom = self.df[cols]\n",
    "\t\treturn self.df_recom\n",
    "\n"
   ]
  },
  {
   "cell_type": "markdown",
   "id": "a16fecb4",
   "metadata": {},
   "source": [
    "### Função get_table\n",
    "#### Essa função tem o objetivo de retornar e mostrar o Dataset dentro do terminal\n"
   ]
  },
  {
   "cell_type": "code",
   "execution_count": 5,
   "id": "4d3161f3",
   "metadata": {},
   "outputs": [],
   "source": [
    "\tdef get_table(self):\n",
    "\t\treturn self.df"
   ]
  },
  {
   "cell_type": "markdown",
   "id": "de863901",
   "metadata": {},
   "source": [
    "### Função get_acidente\n",
    "#### Essa função tem o objetivo de retornar um dataset com as colunas relevantes para analise sobre os acidentes\n"
   ]
  },
  {
   "cell_type": "code",
   "execution_count": null,
   "id": "a06ddbeb",
   "metadata": {},
   "outputs": [],
   "source": [
    "\tdef get_acidente(self):\n",
    "\n",
    "\t\tcols=['aeronave_tipo_veiculo', 'aeronave_fabricante','aeronave_modelo','aeronave_motor_tipo','aeronave_assentos','aeronave_ano_fabricacao','aeronave_registro_segmento','aeronave_voo_origem','aeronave_voo_destino','aeronave_fase_operacao','codigo_ocorrencia','ocorrencia_cidade','ocorrencia_uf','ocorrencia_hora','fator_aspecto','fator_condicionante','ocorrencia_tipo']\n",
    "\t\tself.df_acidente = self.df[cols]\n",
    "\t\treturn self.df_acidente "
   ]
  },
  {
   "cell_type": "markdown",
   "id": "12d25da2",
   "metadata": {},
   "source": [
    "### Função get_fator_contribuinte\n",
    "#### Essa função tem o objetivo de retornar um dataset com os fatores contribuintes para o acidente\n"
   ]
  },
  {
   "cell_type": "code",
   "execution_count": 6,
   "id": "5d7292dc",
   "metadata": {},
   "outputs": [],
   "source": [
    "\tdef get_fator_contribuinte(self):\n",
    "\n",
    "\t\tcols=['aeronave_ano_fabricacao','aeronave_fabricante','fator_nome','fator_aspecto','fator_condicionante','fator_area','ocorrencia_tipo','ocorrencia_tipo_categoria']\n",
    "\t\tself.df_contribuinte = self.df[cols]\n",
    "\t\treturn self.df_contribuinte\n"
   ]
  },
  {
   "cell_type": "markdown",
   "id": "170232de",
   "metadata": {},
   "source": [
    "### Função get_aeronave\n",
    "#### Essa função tem o objetivo de retornar um dataset para a analise das fatores das aeronaves\n"
   ]
  },
  {
   "cell_type": "code",
   "execution_count": 7,
   "id": "39f1b585",
   "metadata": {},
   "outputs": [],
   "source": [
    "\tdef get_aeronave(self):\n",
    "\n",
    "\t\tcols=['aeronave_tipo_veiculo','aeronave_fabricante','aeronave_modelo','aeronave_tipo_icao','aeronave_motor_tipo','aeronave_ano_fabricacao','aeronave_pais_fabricante','aeronave_pais_registro','aeronave_registro_categoria','aeronave_registro_segmento','aeronave_voo_origem','aeronave_voo_destino','aeronave_fase_operacao','aeronave_tipo_operacao','aeronave_nivel_dano', 'aeronave_fatalidades_total']\n",
    "\t\tself.df_aero = self.df[cols]\n",
    "\t\treturn self.df_aero"
   ]
  },
  {
   "cell_type": "markdown",
   "id": "706d3e37",
   "metadata": {},
   "source": [
    "### Função get_recomendacao\n",
    "#### Essa função tem objetivo de retornar um dataset para a analise das recomendações do casos \n"
   ]
  },
  {
   "cell_type": "code",
   "execution_count": 9,
   "id": "0a06bc1f",
   "metadata": {},
   "outputs": [],
   "source": [
    "\tdef get_recomendacao(self):\n",
    "\n",
    "\t\tcols = ['recomendacao_dia_encaminhamento', 'recomendacao_conteudo', 'recomendacao_status','recomendacao_destinatario_sigla','recomendacao_destinatario'] \n",
    "\t\tself.df_recom = self.df[cols]\n",
    "\t\treturn self.df_recom"
   ]
  },
  {
   "cell_type": "markdown",
   "id": "2c891cd9",
   "metadata": {},
   "source": [
    "### Classe Insights\n",
    "#### Essa classe representa uma variedade de insights retirados e pensados a partir do dataframe de acidentes aeronáuticos apresentado na classe CENIPA_API"
   ]
  },
  {
   "cell_type": "code",
   "execution_count": null,
   "id": "fc282702",
   "metadata": {},
   "outputs": [],
   "source": [
    "class Insights(CENIPA_API): \n",
    "\n",
    "\tdef moda_coluna(self, col): \n",
    "\t\t'''\n",
    "\t\tEssa função tem o objetivo de retornar o valor mais recorrente em uma coluna escolhida do dataset\n",
    "\t\t'''\n",
    "\t\ttry:\n",
    "\t\t\tresult = self.df[col].value_counts()\n",
    "\t\texcept KeyError:\n",
    "\t\t\traise ColunaInexistente('Essa coluna não existe')\n",
    "\n",
    "\t\trestr = str(result)\n",
    "\t\tres = re.search(r'\\w[^\\n]+',restr)\n",
    "\t\treestr = str(res) \n",
    "\t\ta = re.findall(r\"\\='[^\\'']+\",reestr)\n",
    "\t\tastr = str(a)\n",
    "\t\tself.resultado = limpezaFinal(astr)        \n",
    "\t\treturn self.resultado\n",
    "\n",
    "\tdef mediana_coluna(self, col):\n",
    "\t\t'''\n",
    "\t\tEssa função tem o objetivo de retornar a mediana de uma coluna escolhida do dataset\n",
    "\t\t'''\n",
    "\t\tresult = self.df[col].median()\n",
    "\t\trestr = str(result)\n",
    "\t\tres = re.search(r'\\w[^\\n]+',restr)\n",
    "\t\treestr = str(res)\n",
    "\t\ta = re.findall(r\"\\='[^\\'']+\",reestr)\n",
    "\t\tastr = str(a)\n",
    "\t\tself.resultado = limpezaFinal(astr)\n",
    "\t\treturn self.resultado\n",
    "\n",
    "\tdef media_coluna(self,col):\n",
    "\t\t'''\n",
    "\t\tEssa função tem o objetivo de retornar a média de uma coluna escolhida do dataset\n",
    "\t\t'''\n",
    "\t\ttry:\n",
    "\t\t\tself.result = self.df[col].mean()\n",
    "\t\texcept ValueError:\n",
    "\t\t    raise ColunaNaoCalculavel('Essa coluna não é de um tipo calculável.')\n",
    "\t\treturn self.result\n",
    "        \n",
    "\tdef variancia_coluna(self,col):\n",
    "\t\t'''\n",
    "\t\tEssa função tem o objetivo de retornar a variancia de uma coluna escolhida do dataset\n",
    "\t\t'''\n",
    "\t\ttry:\n",
    "\t\t\tself.result = np.var(self.df[col])\n",
    "\t\texcept ValueError:\n",
    "\t\t\traise ColunaNaoCalculavel('Essa coluna não é de um tipo calculável.')\n",
    "\t\treturn self.result\n",
    " \n",
    "\tdef desvio_padrao_coluna(self,col):\n",
    "\t\t'''\n",
    "\t\tEssa função tem o objetivo de retornar o desvio padrão de uma coluna escolhida do dataset\n",
    "\t\t'''\n",
    "\t\ttry:\n",
    "\t\t\tself.result = self.df[col].std()\n",
    "\t\texcept ValueError:\n",
    "\t\t\traise ColunaNaoCalculavel('Essa coluna não é de um tipo calculável.')\n",
    "\t\treturn self.result\n",
    " \n",
    "\tdef gravidade_acidentes(self): \n",
    "\t\t'''\n",
    "\t\tEssa função tem o objetivo de gerar o número de mortes totais e alguns gráficos com insights sobrer nível de dano, fatalidade e classificação da ocorrência\n",
    "  \t\t'''\n",
    "\t\tdf_ta = self.df[['aeronave_nivel_dano', 'ocorrencia_classificacao', 'aeronave_fatalidades_total']]\n",
    "\t\tnum_mortes = df_ta['aeronave_fatalidades_total'].sum()\n",
    "\t\tprint(f'Houveram \\033[91m{num_mortes}\\033[0m mortes neste período de 10 anos de análise de ocorrências')\n",
    "  \n",
    "\t\tfig, ax = plt.subplots(figsize=(10,10), subplot_kw=dict(aspect='equal'))\n",
    "\t\tlabels = ['Dano substancial','Destruída','Dano leve','Nenhum dano']\n",
    "\t\tsizes = [df_ta['aeronave_nivel_dano'].value_counts()[0], df_ta['aeronave_nivel_dano'].value_counts()[1], df_ta['aeronave_nivel_dano'].value_counts()[2], df_ta['aeronave_nivel_dano'].value_counts()[3]]\n",
    "\t\tcolors = ['darkorange','gold','tomato','lightgreen']\n",
    "\t\twedges, texts, pct = ax.pie(sizes, startangle=90, colors=colors, pctdistance=1.1, autopct=lambda p : '{:.2f}%\\n({:.0f})'.format(p,p * sum(sizes)/100))\n",
    "\t\tplt.setp(pct, size=18)\n",
    "\t\tplt.rcParams['font.size'] = 13\n",
    "\t\tplt.legend(labels, title= 'Legenda de nível:')\n",
    "\t\tax.set_title('Porcentagem por nível de dano')\n",
    "\t\tplt.show()\t\n",
    "  \n",
    "\t\tfig, ax = plt.subplots(figsize=(10,10), subplot_kw=dict(aspect='equal'))\n",
    "\t\tlabels = ['Dano substancial','Dano leve','Destruída','Nenhum dano']\n",
    "\t\tsizes = [df_ta.loc[df_ta['aeronave_nivel_dano'] == 'SUBSTANCIAL', 'aeronave_fatalidades_total'].sum(), df_ta.loc[df_ta['aeronave_nivel_dano'] == 'LEVE', 'aeronave_fatalidades_total'].sum(), df_ta.loc[df_ta['aeronave_nivel_dano'] == 'DESTRUÍDA', 'aeronave_fatalidades_total'].sum(), df_ta.loc[df_ta['aeronave_nivel_dano'] == 'NENHUM', 'aeronave_fatalidades_total'].sum()] \n",
    "\t\tcolors = ['deepskyblue','darkblue','lightblue','dodgerblue']\n",
    "\t\texplode = (0, 0, 0.1, 0) \n",
    "\t\twedges, texts, pct = ax.pie(sizes, explode=explode, startangle=90, colors=colors, pctdistance=1.1, autopct=lambda p : '{:.2f}%\\n({:.0f})'.format(p,p * sum(sizes)/100))\n",
    "\t\tplt.setp(pct, size=18)\n",
    "\t\tplt.rcParams['font.size'] = 13\n",
    "\t\tplt.legend(labels, title= 'Legenda de nível:')\n",
    "\t\tax.set_title('Porcentagem por quantidade de fatalidade em cada nível de dano')\n",
    "\t\tplt.show()\n",
    "  \n",
    "\t\tfig, ax = plt.subplots(figsize=(10,10), subplot_kw=dict(aspect='equal'))\n",
    "\t\tlabels = ['Acidente','Incidente','Incidente grave']\n",
    "\t\tsizes = [df_ta['ocorrencia_classificacao'].value_counts()[0], df_ta['ocorrencia_classificacao'].value_counts()[1], df_ta['ocorrencia_classificacao'].value_counts()[2]]\n",
    "\t\tcolors = ['darkorange','lightgreen','gold']\n",
    "\t\twedges, texts, pct = ax.pie(sizes, startangle=90, colors=colors, pctdistance=1.1, autopct=lambda p : '{:.2f}%\\n({:.0f})'.format(p,p * sum(sizes)/100))\n",
    "\t\tplt.setp(pct, size=18)\n",
    "\t\tplt.rcParams['font.size'] = 13\n",
    "\t\tplt.legend(labels, title= 'Legenda de nível:')\n",
    "\t\tax.set_title('Porcentagem por classificação da ocorrência')\n",
    "\t\tplt.show()\t \n",
    "\t\t\n",
    "\tdef tipos_mortes_aeronaves(self): \n",
    "\t\t'''\n",
    "\t\tEssa função tem o objetivo de retornar os tipos de aeronaves e a porcentagem de ocorrencias fatais nas aeronaves listadas com ocorrências\n",
    "  \t\t'''\n",
    "\t\tprint(self.df['aeronave_registro_categoria'].value_counts())\n",
    "\t\tdf_tpa = self.df[['aeronave_registro_categoria', 'aeronave_fatalidades_total']]\n",
    "\t\tma = (df_tpa.loc[df_tpa['aeronave_registro_categoria'] == 'AVIÃO', 'aeronave_fatalidades_total'].sum()*100) / df_tpa['aeronave_registro_categoria'].value_counts()[0]\n",
    "\t\tmh = (df_tpa.loc[df_tpa['aeronave_registro_categoria'] == 'HELICÓPTERO', 'aeronave_fatalidades_total'].sum()*100) / df_tpa['aeronave_registro_categoria'].value_counts()[1]\n",
    "\t\tmp =  (df_tpa.loc[df_tpa['aeronave_registro_categoria'] == 'PLANADOR', 'aeronave_fatalidades_total'].sum()*100) / df_tpa['aeronave_registro_categoria'].value_counts()[2]\n",
    "\t\tmu = (df_tpa.loc[df_tpa['aeronave_registro_categoria'] == 'ULTRALEVE', 'aeronave_fatalidades_total'].sum()*100) / df_tpa['aeronave_registro_categoria'].value_counts()[3]\n",
    "\t\tmaf = (df_tpa.loc[df_tpa['aeronave_registro_categoria'] == 'ANFÍBIO', 'aeronave_fatalidades_total'].sum()*100) / df_tpa['aeronave_registro_categoria'].value_counts()[4]\n",
    "\t\treturn f'\\033[1mEntre os tipos de aeronaves, encontram-se a porcentagem de ocorrências fatais:\\033[0m \\n   Avião {ma:.2f}%\\n   Helicóptero {mh:.2f}%\\n   Planador {mp:.2f}%\\n   Ultraleve {mu:.2f}%\\n   Anfíbio {maf:.2f}%'\n",
    "    \n",
    "\tdef top_fatores_contribuintes(self):\n",
    "\t\t'''\n",
    "\t\tEssa função tem o objetivo de retornar os top fatores contribuintes\n",
    "  \t\t'''\n",
    "\t\tn1= self.df['fator_nome'].value_counts().index.tolist()[0]\n",
    "\t\tn2= self.df['fator_nome'].value_counts().index.tolist()[1]\n",
    "\t\tn3= self.df['fator_nome'].value_counts().index.tolist()[2]\n",
    "\t\ta1= self.df['fator_aspecto'].value_counts().index.tolist()[0]\n",
    "\t\ta2= self.df['fator_aspecto'].value_counts().index.tolist()[1]\n",
    "\t\ta3= self.df['fator_aspecto'].value_counts().index.tolist()[2]\n",
    "\t\tc1= self.df['fator_condicionante'].value_counts().index.tolist()[0]\n",
    "\t\tc2= self.df['fator_condicionante'].value_counts().index.tolist()[1]\n",
    "\t\tc3= self.df['fator_condicionante'].value_counts().index.tolist()[2]\n",
    "\t\tar1= self.df['fator_area'].value_counts().index.tolist()[0]\n",
    "\t\tar2= self.df['fator_area'].value_counts().index.tolist()[1]\n",
    "\t\treturn f'Top fatores contribuintes: \\nNome do fator: {n1}, {n2}, {n3}\\nAspecto: {a1}, {a2}, {a3}\\nCondicionante: {c1}, {c2}, {c3}\\nArea: {ar1} e {ar2}'\n",
    "\n",
    "\tdef ocorrencia_tipo(self):\n",
    "\t\t'''\n",
    "\t\tEssa função tem o objetivo de visualizar quais são as ocorrências mais frequentes \n",
    "  \t\t'''\n",
    "\t\treturn self.df['ocorrencia_tipo'].value_counts()\n",
    "\n",
    "\tdef ocorrencia_estados(self, nome_UF): \n",
    "\t\t'''\n",
    "\t\tEssa função tem o objetivo de filtrar ocorrências pela sigla dos estados\n",
    "  \t\t'''\n",
    "\t\testado = self.df.loc[(self.df['ocorrencia_uf']==nome_UF.upper())]\n",
    "\t\tif len(estado)==0:\n",
    "\t\t\traise ExceçãoEstadoInexistente('Não há ocorrências para esse estado')\n",
    "\t\treturn estado\n",
    "\t\t\n",
    "\tdef ocorrencia_cidade(self, nome_cidade): \n",
    "\t\t'''\n",
    "\t\tEssa função tem o objetivo de filtrar ocorrências pelo nome de cidades\n",
    "\t\t'''\n",
    "\t\tcidade = self.df.loc[(self.df['ocorrencia_cidade']==nome_cidade.upper())]\n",
    "\t\tif len(cidade)==0:\n",
    "\t\t\traise ExceçãoCidadeInexistente('Não há ocorrências para essa cidade')\n",
    "\t\treturn cidade\n",
    "\n",
    "\tdef informacoes_acidentes(self): \n",
    "\t\t'''\n",
    "\t\tEssa função tem o objetivo de retornar informações sobre a gravidade e detalhes de fatalidade do acidente\n",
    "  \t\t'''\n",
    "\t\treturn self.df[['aeronave_nivel_dano', 'ocorrencia_classificacao', 'aeronave_fatalidades_total']]\n",
    "\n",
    "\tdef ocorrencia_MesHora(self): \n",
    "\t\t'''\n",
    "\t\tEssa função tem o objetivo de apresentar os meses e horários que mais existem ocorrências\n",
    "  \t\t'''\n",
    "\t\tdf_mh = self.df[['ocorrencia_dia','ocorrencia_hora']]\n",
    "\t\tnovo_df = df_mh['ocorrencia_dia'].str.split(\"/\", n=2, expand= True).astype(int)\n",
    "\t\tdf_mh['mes_ocorrencia']= novo_df[1]\n",
    "\t\tdf_mh['ano_ocorrencia']= novo_df[2]\n",
    "\t\tdf_mh.drop('ocorrencia_dia', axis=1, inplace= True)\n",
    "\t\tm = df_mh['mes_ocorrencia'].value_counts().index.tolist()[0]\n",
    "\t\ta = df_mh['ano_ocorrencia'].value_counts().index.tolist()[0]\n",
    "\t\th = df_mh['ocorrencia_hora'].value_counts().index.tolist()[0] \n",
    "\t\treturn f'Top mês, dia e hora das ocorrências: \\nMês: {m}\\nAno: {a}\\nHora: {h}'\n",
    "\n",
    "\tdef ocorrencia_ano(self, ano): \n",
    "\t\t'''\n",
    "\t\tEssa função tem o objetivo de apresentar as informações de acordo com o ano selecionado\n",
    "  \t\t'''\n",
    "\t\tcol_ano = self.df['ocorrencia_dia'].str.split(\"/\", n=2, expand= True).astype(int)\n",
    "\t\tself.df['ano_ocorrencia']= col_ano[2]\n",
    "\t\tpesq_ano = self.df.loc[(self.df['ano_ocorrencia']==ano)]\n",
    "\t\tif len(pesq_ano)==0:\n",
    "\t\t\traise ExceçãoAnoInexistente('Não há ocorrências para esse ano')\n",
    "\t\treturn pesq_ano\n"
   ]
  },
  {
   "cell_type": "markdown",
   "id": "2779eab9",
   "metadata": {},
   "source": [
    "### Função moda_coluna\n",
    "#### Essa função tem o objetivo de retornar o valor mais recorrente em uma coluna escolhida do dataset"
   ]
  },
  {
   "cell_type": "code",
   "execution_count": null,
   "id": "657b88a3",
   "metadata": {},
   "outputs": [],
   "source": [
    "\tdef moda_coluna(self, col): \n",
    "\t\ttry:\n",
    "\t\t\tresult = self.df[col].value_counts()\n",
    "\t\texcept KeyError:\n",
    "\t\t\traise ColunaInexistente('Essa coluna não existe')\n",
    "\t\trestr = str(result)\n",
    "\t\tres = re.search(r'\\w[^\\n]+',restr)\n",
    "\t\treestr = str(res) \n",
    "\t\ta = re.findall(r\"\\='[^\\'']+\",reestr)\n",
    "\t\tastr = str(a)\n",
    "\t\tself.resultado = limpezaFinal(astr)        \n",
    "\t\treturn self.resultado"
   ]
  },
  {
   "cell_type": "markdown",
   "id": "c7364e31",
   "metadata": {},
   "source": [
    "### Função mediana_coluna\n",
    "### Essa função tem o objetivo de retornar a mediana de uma coluna escolhida do dataset\n"
   ]
  },
  {
   "cell_type": "code",
   "execution_count": null,
   "id": "a86400f3",
   "metadata": {},
   "outputs": [],
   "source": [
    "\tdef mediana_coluna(self, col):\n",
    "\t\tresult = self.df[col].median()\n",
    "\t\trestr = str(result)\n",
    "\t\tres = re.search(r'\\w[^\\n]+',restr)\n",
    "\t\treestr = str(res)\n",
    "\t\ta = re.findall(r\"\\='[^\\'']+\",reestr)\n",
    "\t\tastr = str(a)\n",
    "\t\tself.resultado = limpezaFinal(astr)\n",
    "\t\treturn self.resultado"
   ]
  },
  {
   "cell_type": "markdown",
   "id": "ba2aea55",
   "metadata": {},
   "source": [
    "### Função media_coluna\n",
    "#### Essa função tem o objetivo de retornar a média de uma coluna escolhida do dataset\n"
   ]
  },
  {
   "cell_type": "code",
   "execution_count": null,
   "id": "55d60f7f",
   "metadata": {},
   "outputs": [],
   "source": [
    "\tdef media_coluna(self,col):\n",
    "\t\ttry:\n",
    "\t\t\tself.result = self.df[col].mean()\n",
    "\t\texcept ValueError:\n",
    "\t\t    raise ColunaNaoCalculavel('Essa coluna não é de um tipo calculável.')\n",
    "\t\treturn self.result"
   ]
  },
  {
   "cell_type": "markdown",
   "id": "269c939f",
   "metadata": {},
   "source": [
    "### Função variancia_coluna\n",
    "#### Essa função tem o objetivo de retornar a variancia de uma coluna escolhida do dataset\n"
   ]
  },
  {
   "cell_type": "code",
   "execution_count": null,
   "id": "5121eef6",
   "metadata": {},
   "outputs": [],
   "source": [
    "\tdef variancia_coluna(self,col):\n",
    "\t\ttry:\n",
    "\t\t\tself.result = np.var(self.df[col])\n",
    "\t\texcept ValueError:\n",
    "\t\t\traise ColunaNaoCalculavel('Essa coluna não é de um tipo calculável.')\n",
    "\t\treturn self.result "
   ]
  },
  {
   "cell_type": "markdown",
   "id": "efa7f130",
   "metadata": {},
   "source": [
    "### Função desvio_padrao_coluna\n",
    "#### Essa função tem o objetivo de retornar o desvio padrão de uma coluna escolhida do dataset"
   ]
  },
  {
   "cell_type": "code",
   "execution_count": null,
   "id": "688fe21c",
   "metadata": {},
   "outputs": [],
   "source": [
    "\tdef desvio_padrao_coluna(self,col):\n",
    "\t\ttry:\n",
    "\t\t\tself.result = self.df[col].std()\n",
    "\t\texcept ValueError:\n",
    "\t\t\traise ColunaNaoCalculavel('Essa coluna não é de um tipo calculável.')\n",
    "\t\treturn self.result"
   ]
  },
  {
   "cell_type": "markdown",
   "id": "48d433dd",
   "metadata": {},
   "source": [
    "### Função gravidade_acidentes\n",
    "#### Essa função tem o objetivo de gerar o número de mortes totais e alguns gráficos com insights sobrer nível de dano, fatalidade e classificação da ocorrência"
   ]
  },
  {
   "cell_type": "code",
   "execution_count": null,
   "id": "7e2d0ec7",
   "metadata": {},
   "outputs": [],
   "source": [
    "\tdef gravidade_acidentes(self): \n",
    "\t\tdf_ta = self.df[['aeronave_nivel_dano', 'ocorrencia_classificacao', 'aeronave_fatalidades_total']]\n",
    "\t\tnum_mortes = df_ta['aeronave_fatalidades_total'].sum()\n",
    "\t\tprint(f'Houveram \\033[91m{num_mortes}\\033[0m mortes neste período de 10 anos de análise de ocorrências')\n",
    "  \n",
    "\t\tfig, ax = plt.subplots(figsize=(10,10), subplot_kw=dict(aspect='equal'))\n",
    "\t\tlabels = ['Dano substancial','Destruída','Dano leve','Nenhum dano']\n",
    "\t\tsizes = [df_ta['aeronave_nivel_dano'].value_counts()[0], df_ta['aeronave_nivel_dano'].value_counts()[1], df_ta['aeronave_nivel_dano'].value_counts()[2], df_ta['aeronave_nivel_dano'].value_counts()[3]]\n",
    "\t\tcolors = ['darkorange','gold','tomato','lightgreen']\n",
    "\t\twedges, texts, pct = ax.pie(sizes, startangle=90, colors=colors, pctdistance=1.1, autopct=lambda p : '{:.2f}%\\n({:.0f})'.format(p,p * sum(sizes)/100))\n",
    "\t\tplt.setp(pct, size=18)\n",
    "\t\tplt.rcParams['font.size'] = 13\n",
    "\t\tplt.legend(labels, title= 'Legenda de nível:')\n",
    "\t\tax.set_title('Porcentagem por nível de dano')\n",
    "\t\tplt.show()\t\n",
    "  \n",
    "\t\tfig, ax = plt.subplots(figsize=(10,10), subplot_kw=dict(aspect='equal'))\n",
    "\t\tlabels = ['Dano substancial','Dano leve','Destruída','Nenhum dano']\n",
    "\t\tsizes = [df_ta.loc[df_ta['aeronave_nivel_dano'] == 'SUBSTANCIAL', 'aeronave_fatalidades_total'].sum(), df_ta.loc[df_ta['aeronave_nivel_dano'] == 'LEVE', 'aeronave_fatalidades_total'].sum(), df_ta.loc[df_ta['aeronave_nivel_dano'] == 'DESTRUÍDA', 'aeronave_fatalidades_total'].sum(), df_ta.loc[df_ta['aeronave_nivel_dano'] == 'NENHUM', 'aeronave_fatalidades_total'].sum()] \n",
    "\t\tcolors = ['deepskyblue','darkblue','lightblue','dodgerblue']\n",
    "\t\texplode = (0, 0, 0.1, 0) \n",
    "\t\twedges, texts, pct = ax.pie(sizes, explode=explode, startangle=90, colors=colors, pctdistance=1.1, autopct=lambda p : '{:.2f}%\\n({:.0f})'.format(p,p * sum(sizes)/100))\n",
    "\t\tplt.setp(pct, size=18)\n",
    "\t\tplt.rcParams['font.size'] = 13\n",
    "\t\tplt.legend(labels, title= 'Legenda de nível:')\n",
    "\t\tax.set_title('Porcentagem por quantidade de fatalidade em cada nível de dano')\n",
    "\t\tplt.show()\n",
    "  \n",
    "\t\tfig, ax = plt.subplots(figsize=(10,10), subplot_kw=dict(aspect='equal'))\n",
    "\t\tlabels = ['Acidente','Incidente','Incidente grave']\n",
    "\t\tsizes = [df_ta['ocorrencia_classificacao'].value_counts()[0], df_ta['ocorrencia_classificacao'].value_counts()[1], df_ta['ocorrencia_classificacao'].value_counts()[2]]\n",
    "\t\tcolors = ['darkorange','lightgreen','gold']\n",
    "\t\twedges, texts, pct = ax.pie(sizes, startangle=90, colors=colors, pctdistance=1.1, autopct=lambda p : '{:.2f}%\\n({:.0f})'.format(p,p * sum(sizes)/100))\n",
    "\t\tplt.setp(pct, size=18)\n",
    "\t\tplt.rcParams['font.size'] = 13\n",
    "\t\tplt.legend(labels, title= 'Legenda de nível:')\n",
    "\t\tax.set_title('Porcentagem por classificação da ocorrência')\n",
    "\t\tplt.show()\t \n",
    "\t\t"
   ]
  },
  {
   "cell_type": "markdown",
   "id": "7f4464ee",
   "metadata": {},
   "source": [
    "### Função tipos_mortes_aeronaves\n",
    "#### Essa função tem o objetivo de retornar os tipos de aeronaves e a porcentagem de ocorrencias fatais nas aeronaves listadas com ocorrências\n"
   ]
  },
  {
   "cell_type": "code",
   "execution_count": null,
   "id": "112e7590",
   "metadata": {},
   "outputs": [],
   "source": [
    "\tdef tipos_mortes_aeronaves(self): \n",
    "\t\tprint(self.df['aeronave_registro_categoria'].value_counts())\n",
    "\t\tdf_tpa = self.df[['aeronave_registro_categoria', 'aeronave_fatalidades_total']]\n",
    "\t\tma = (df_tpa.loc[df_tpa['aeronave_registro_categoria'] == 'AVIÃO', 'aeronave_fatalidades_total'].sum()*100) / df_tpa['aeronave_registro_categoria'].value_counts()[0]\n",
    "\t\tmh = (df_tpa.loc[df_tpa['aeronave_registro_categoria'] == 'HELICÓPTERO', 'aeronave_fatalidades_total'].sum()*100) / df_tpa['aeronave_registro_categoria'].value_counts()[1]\n",
    "\t\tmp =  (df_tpa.loc[df_tpa['aeronave_registro_categoria'] == 'PLANADOR', 'aeronave_fatalidades_total'].sum()*100) / df_tpa['aeronave_registro_categoria'].value_counts()[2]\n",
    "\t\tmu = (df_tpa.loc[df_tpa['aeronave_registro_categoria'] == 'ULTRALEVE', 'aeronave_fatalidades_total'].sum()*100) / df_tpa['aeronave_registro_categoria'].value_counts()[3]\n",
    "\t\tmaf = (df_tpa.loc[df_tpa['aeronave_registro_categoria'] == 'ANFÍBIO', 'aeronave_fatalidades_total'].sum()*100) / df_tpa['aeronave_registro_categoria'].value_counts()[4]\n",
    "\t\treturn f'\\033[1mEntre os tipos de aeronaves, encontram-se a porcentagem de ocorrências fatais:\\033[0m \\n   Avião {ma:.2f}%\\n   Helicóptero {mh:.2f}%\\n   Planador {mp:.2f}%\\n   Ultraleve {mu:.2f}%\\n   Anfíbio {maf:.2f}%'\n",
    "    "
   ]
  },
  {
   "cell_type": "markdown",
   "id": "990e29b5",
   "metadata": {},
   "source": [
    "### Função top_fatores_contribuintes\n",
    "#### Essa função tem o objetivo de retornar os top fatores contribuintes\n"
   ]
  },
  {
   "cell_type": "code",
   "execution_count": null,
   "id": "2d9a9824",
   "metadata": {},
   "outputs": [],
   "source": [
    "\tdef top_fatores_contribuintes(self):\n",
    "\t\tn1= self.df['fator_nome'].value_counts().index.tolist()[0]\n",
    "\t\tn2= self.df['fator_nome'].value_counts().index.tolist()[1]\n",
    "\t\tn3= self.df['fator_nome'].value_counts().index.tolist()[2]\n",
    "\t\ta1= self.df['fator_aspecto'].value_counts().index.tolist()[0]\n",
    "\t\ta2= self.df['fator_aspecto'].value_counts().index.tolist()[1]\n",
    "\t\ta3= self.df['fator_aspecto'].value_counts().index.tolist()[2]\n",
    "\t\tc1= self.df['fator_condicionante'].value_counts().index.tolist()[0]\n",
    "\t\tc2= self.df['fator_condicionante'].value_counts().index.tolist()[1]\n",
    "\t\tc3= self.df['fator_condicionante'].value_counts().index.tolist()[2]\n",
    "\t\tar1= self.df['fator_area'].value_counts().index.tolist()[0]\n",
    "\t\tar2= self.df['fator_area'].value_counts().index.tolist()[1]\n",
    "\t\treturn f'Top fatores contribuintes: \\nNome do fator: {n1}, {n2}, {n3}\\nAspecto: {a1}, {a2}, {a3}\\nCondicionante: {c1}, {c2}, {c3}\\nArea: {ar1} e {ar2}'\n"
   ]
  },
  {
   "cell_type": "markdown",
   "id": "e7d1afb4",
   "metadata": {},
   "source": [
    "### Função ocorrencia_tipo\n",
    "#### Essa função tem o objetivo de visualizar quais são as ocorrências mais frequentes \n"
   ]
  },
  {
   "cell_type": "code",
   "execution_count": null,
   "id": "23e6893b",
   "metadata": {},
   "outputs": [],
   "source": [
    "\tdef ocorrencia_tipo(self):\n",
    "\t\treturn self.df['ocorrencia_tipo'].value_counts()"
   ]
  },
  {
   "cell_type": "markdown",
   "id": "18a823ba",
   "metadata": {},
   "source": [
    "### Função ocorrencia_estados\n",
    "#### Essa função tem o objetivo de filtrar ocorrências pela sigla dos estados\n"
   ]
  },
  {
   "cell_type": "code",
   "execution_count": null,
   "id": "c1b0f700",
   "metadata": {},
   "outputs": [],
   "source": [
    "\tdef ocorrencia_estados(self, nome_UF): \n",
    "\t\testado = self.df.loc[(self.df['ocorrencia_uf']==nome_UF.upper())]\n",
    "\t\tif len(estado)==0:\n",
    "\t\t\traise ExceçãoEstadoInexistente('Não há ocorrências para esse estado')\n",
    "\t\treturn estado"
   ]
  },
  {
   "cell_type": "markdown",
   "id": "b12d7afa",
   "metadata": {},
   "source": [
    "### Função ocorrencia_cidade\n",
    "#### Essa função tem o objetivo de filtrar ocorrências pelo nome de cidades"
   ]
  },
  {
   "cell_type": "code",
   "execution_count": null,
   "id": "9b6a3d47",
   "metadata": {},
   "outputs": [],
   "source": [
    "\tdef ocorrencia_cidade(self, nome_cidade): \n",
    "\t\tcidade = self.df.loc[(self.df['ocorrencia_cidade']==nome_cidade.upper())]\n",
    "\t\tif len(cidade)==0:\n",
    "\t\t\traise ExceçãoCidadeInexistente('Não há ocorrências para essa cidade')\n",
    "\t\treturn cidade"
   ]
  },
  {
   "cell_type": "markdown",
   "id": "1c205e56",
   "metadata": {},
   "source": [
    "### Função informacoes_acidentes\n",
    "#### Essa função tem o objetivo de retornar informações sobre a gravidade e detalhes de fatalidade do acidente\n"
   ]
  },
  {
   "cell_type": "code",
   "execution_count": null,
   "id": "5d6d4691",
   "metadata": {},
   "outputs": [],
   "source": [
    "\tdef informacoes_acidentes(self): \n",
    "\t\treturn self.df[['aeronave_nivel_dano', 'ocorrencia_classificacao', 'aeronave_fatalidades_total']]\n"
   ]
  },
  {
   "cell_type": "markdown",
   "id": "73c3a5bb",
   "metadata": {},
   "source": [
    "### Funcão ocorrencia_MesHora\n",
    "#### Essa função tem o objetivo de apresentar os meses e horários que mais existem ocorrências\n"
   ]
  },
  {
   "cell_type": "code",
   "execution_count": null,
   "id": "fa6d89fb",
   "metadata": {},
   "outputs": [],
   "source": [
    "\tdef ocorrencia_MesHora(self): \n",
    "\t\tdf_mh = self.df[['ocorrencia_dia','ocorrencia_hora']]\n",
    "\t\tnovo_df = df_mh['ocorrencia_dia'].str.split(\"/\", n=2, expand= True).astype(int)\n",
    "\t\tdf_mh['mes_ocorrencia']= novo_df[1]\n",
    "\t\tdf_mh['ano_ocorrencia']= novo_df[2]\n",
    "\t\tdf_mh.drop('ocorrencia_dia', axis=1, inplace= True)\n",
    "\t\tm = df_mh['mes_ocorrencia'].value_counts().index.tolist()[0]\n",
    "\t\ta = df_mh['ano_ocorrencia'].value_counts().index.tolist()[0]\n",
    "\t\th = df_mh['ocorrencia_hora'].value_counts().index.tolist()[0] \n",
    "\t\treturn f'Top mês, dia e hora das ocorrências: \\nMês: {m}\\nAno: {a}\\nHora: {h}'\n"
   ]
  },
  {
   "cell_type": "markdown",
   "id": "1f303242",
   "metadata": {},
   "source": [
    "### Função ocorrencia_ano\n",
    "#### Essa função tem o objetivo de apresentar as informações de acordo com o ano selecionado\n"
   ]
  },
  {
   "cell_type": "code",
   "execution_count": null,
   "id": "1a5028ea",
   "metadata": {},
   "outputs": [],
   "source": [
    "\tdef ocorrencia_ano(self, ano): \n",
    "\t\tcol_ano = self.df['ocorrencia_dia'].str.split(\"/\", n=2, expand= True).astype(int)\n",
    "\t\tself.df['ano_ocorrencia']= col_ano[2]\n",
    "\t\tpesq_ano = self.df.loc[(self.df['ano_ocorrencia']==ano)]\n",
    "\t\tif len(pesq_ano)==0:\n",
    "\t\t\traise ExceçãoAnoInexistente('Não há ocorrências para esse ano')\n",
    "\t\treturn pesq_ano"
   ]
  },
  {
   "cell_type": "markdown",
   "id": "3edac916",
   "metadata": {},
   "source": [
    "### Classes de Exeção "
   ]
  },
  {
   "cell_type": "code",
   "execution_count": null,
   "id": "f15623c5",
   "metadata": {},
   "outputs": [],
   "source": [
    "class ColunaInexistente(Exception):\n",
    "    pass\n",
    "\n",
    "class ColunaNaoCalculavel(Exception):\n",
    "    pass\n",
    "\n",
    "class ExceçãoEstadoInexistente(Exception):\n",
    "    pass\n",
    "\n",
    "class ExceçãoCidadeInexistente(Exception):\n",
    "    pass\n",
    "\n",
    "class ExceçãoAnoInexistente(Exception):\n",
    "    pass"
   ]
  }
 ],
 "metadata": {
  "kernelspec": {
   "display_name": "Python 3",
   "language": "python",
   "name": "python3"
  },
  "language_info": {
   "codemirror_mode": {
    "name": "ipython",
    "version": 3
   },
   "file_extension": ".py",
   "mimetype": "text/x-python",
   "name": "python",
   "nbconvert_exporter": "python",
   "pygments_lexer": "ipython3",
   "version": "3.8.8"
  }
 },
 "nbformat": 4,
 "nbformat_minor": 5
}
